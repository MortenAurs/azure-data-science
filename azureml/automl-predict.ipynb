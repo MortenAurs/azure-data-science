{
 "cells": [
  {
   "cell_type": "code",
   "execution_count": 1,
   "metadata": {},
   "outputs": [
    {
     "name": "stdout",
     "output_type": "stream",
     "text": [
      "Not Diabetic\n"
     ]
    }
   ],
   "source": [
    "endpoint = 'http://1b2f5395-6e55-4698-a3fa-cf4bf7ee84c2.northeurope.azurecontainer.io/score' #Replace with your endpoint\n",
    "key = 'fkiEs3NbMrVhcECRZDIOasDfE5r2gIub' #Replace with your key\n",
    "\n",
    "import json\n",
    "import requests\n",
    "\n",
    "#Features for a patient\n",
    "data = {\n",
    "  \"Inputs\": {\n",
    "    \"data\": [\n",
    "      {\"PatientID\": 1,\n",
    "      \"Pregnancies\": 5,\n",
    "      \"PlasmaGlucose\": 181.0,\n",
    "      \"DiastolicBloodPressure\": 90.6,\n",
    "      \"TricepsThickness\": 34.0,\n",
    "      \"SerumInsulin\": 23.0,\n",
    "      \"BMI\": 43.51,\n",
    "      \"DiabetesPedigree\": 1.21,\n",
    "      \"Age\": 21.0\n",
    "      }\n",
    "    ]\n",
    "  }\n",
    "}\n",
    "\n",
    "#Create a \"data\" JSON object\n",
    "body = str.encode(json.dumps(data))\n",
    "\n",
    "#Set the content type and authentication for the request\n",
    "headers = {\"Content-Type\":\"application/json\",\n",
    "           \"Authorization\":\"Bearer \" + key}\n",
    "\n",
    "#Send the request\n",
    "response = requests.post(endpoint, body, headers=headers)\n",
    "\n",
    "#If we got a valid response, display the predictions\n",
    "if response.status_code == 200:\n",
    "    y = response.json()\n",
    "    #Get the first prediction in the results\n",
    "    if y[\"Results\"][0] == 1:\n",
    "        print('Diabetic')\n",
    "    else:\n",
    "        print(\"Not Diabetic\")\n",
    "else:\n",
    "    print(response)"
   ]
  }
 ],
 "metadata": {
  "kernelspec": {
   "display_name": "Python 3",
   "language": "python",
   "name": "python3"
  },
  "language_info": {
   "codemirror_mode": {
    "name": "ipython",
    "version": 3
   },
   "file_extension": ".py",
   "mimetype": "text/x-python",
   "name": "python",
   "nbconvert_exporter": "python",
   "pygments_lexer": "ipython3",
   "version": "3.11.1"
  },
  "orig_nbformat": 4,
  "vscode": {
   "interpreter": {
    "hash": "62ffef6e98ef31d7addd721933ebe82fe863f8b993b170ed0578f977ee0711a0"
   }
  }
 },
 "nbformat": 4,
 "nbformat_minor": 2
}
